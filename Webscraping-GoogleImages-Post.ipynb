{
 "cells": [
  {
   "cell_type": "code",
   "execution_count": null,
   "metadata": {
    "collapsed": true
   },
   "outputs": [],
   "source": [
    "from selenium import webdriver\n",
    "from selenium.webdriver.common.keys import Keys\n",
    "import json\n",
    "import os\n",
    "import urllib2"
   ]
  },
  {
   "cell_type": "markdown",
   "metadata": {},
   "source": [
    "# Web Scraping Google Images Search Results\n",
    "\n",
    "## Using Selenium and ChromeDriver to scroll down the results page and load more images\n",
    "\n",
    "Google uses AJAX to dynamically load search results as a user scrolls down the page. I am using Selenium and ChromeDriver here to simulate scrolling down the results page and then saving the images that are loaded."
   ]
  },
  {
   "cell_type": "markdown",
   "metadata": {},
   "source": [
    "---"
   ]
  },
  {
   "cell_type": "markdown",
   "metadata": {},
   "source": [
    "# Defining the functions for webscraping"
   ]
  },
  {
   "cell_type": "code",
   "execution_count": null,
   "metadata": {
    "collapsed": true
   },
   "outputs": [],
   "source": [
    "# Set url and path for saving files\n",
    "\n",
    "url = \"https://www.google.com/search?q={}&source=lnms&tbm=isch\"\n",
    "folder = 'library_google_l'\n",
    "path = folder+'/'\n",
    "\n",
    "# Make a directory if it does not already exist\n",
    "\n",
    "if not os.path.exists(folder):\n",
    "    os.mkdir(folder)"
   ]
  },
  {
   "cell_type": "code",
   "execution_count": null,
   "metadata": {
    "collapsed": true
   },
   "outputs": [],
   "source": [
    "# ChromeDriver\n",
    "\n",
    "chromedriver = \"/Users/anthonysullivan/Downloads/chromedriver\"\n",
    "os.environ[\"webdriver.chrome.driver\"] = chromedriver"
   ]
  },
  {
   "cell_type": "code",
   "execution_count": null,
   "metadata": {
    "collapsed": true
   },
   "outputs": [],
   "source": [
    "# Function to save images from a google image search, scrolling down the page to load more images\n",
    "\n",
    "def get_images(search):\n",
    "    browser = webdriver.Chrome(chromedriver)\n",
    "    header={'User-Agent':\"Mozilla/5.0 (Windows NT 6.1; WOW64) AppleWebKit/537.36 (KHTML, like Gecko) Chrome/43.0.2357.134 Safari/537.36\"}\n",
    "    browser.get(url.format(search))\n",
    "    print 'Search: '+url.format(search)\n",
    "    \n",
    "    # Keep a count of images loaded and how many we were able to download\n",
    "    cnt = 0\n",
    "    downloads = 0\n",
    "\n",
    "    # Create a subdirectory for each search to save images in separate folders\n",
    "    if not os.path.exists(path+search):\n",
    "        os.mkdir(path+search)\n",
    "\n",
    "    # Scroll\n",
    "    for _ in range(500):\n",
    "        browser.execute_script(\"window.scrollBy(0,10000)\")\n",
    "\n",
    "    # Grabbing image sources\n",
    "    for x in browser.find_elements_by_xpath(\"//div[@class='rg_meta']\"):\n",
    "        \n",
    "        # Update count for images found\n",
    "        cnt = cnt + 1\n",
    "\n",
    "        img = json.loads(x.get_attribute('innerHTML'))[\"ou\"]\n",
    "        imgtype = json.loads(x.get_attribute('innerHTML'))[\"ity\"]\n",
    "        \n",
    "        # Save the images\n",
    "        try:\n",
    "            req = urllib2.Request(img, headers={'User-Agent': header})\n",
    "            raw_img = urllib2.urlopen(req).read()\n",
    "            File = open(os.path.join(path+search , str(cnt) + \"_\" + img.split('/')[-1].split('.')[0] + \".\" + imgtype), \"wb\")\n",
    "            File.write(raw_img)\n",
    "            File.close()\n",
    "            # Update count for images downloaded\n",
    "            downloads = downloads + 1\n",
    "        \n",
    "        # Print links that were not downloaded and why \n",
    "        except Exception as e:\n",
    "            print \"could not load : \"+img\n",
    "            print e\n",
    "    \n",
    "    # Print out how many images were downloaded at the end of each loop\n",
    "    print 'Downloaded '+str(downloads)+' images of '+str(cnt)"
   ]
  },
  {
   "cell_type": "markdown",
   "metadata": {
    "collapsed": true
   },
   "source": [
    "---\n",
    "\n",
    "# Cheeses to grab\n",
    "\n",
    "### Listing the types of cheese to include in the library"
   ]
  },
  {
   "cell_type": "markdown",
   "metadata": {},
   "source": [
    "### French Cheeses\n",
    "\n",
    "Taken from here: https://en.wikipedia.org/wiki/List_of_French_cheeses"
   ]
  },
  {
   "cell_type": "code",
   "execution_count": null,
   "metadata": {},
   "outputs": [],
   "source": [
    "french = [  'Abondance',\n",
    "            'Banon',\n",
    "            'Beaufort',\n",
    "            \"Bleu d'Auvergne\",\n",
    "            'Bleu des Causses',\n",
    "            'Bleu de Gex', \n",
    "            'Bleu du Vercors-Sassenage',\n",
    "            'Brie de Meaux',\n",
    "            'Brie de Melun',\n",
    "            'Brocciu',\n",
    "            'Cabecou',\n",
    "            'Cancoillotte',\n",
    "            'Fourme de Cantal',\n",
    "            'Camembert de Normandie',\n",
    "            'Cazelle de Saint Affrique',\n",
    "            'Chabichou du Poitou',\n",
    "            'Chaource',\n",
    "            'Chevrotin',\n",
    "            'Comté',\n",
    "            'Crottin de Chavignol',\n",
    "            'Emmental de Savoie',\n",
    "            'Emmental français est-central',\n",
    "            'Époisses de Bourgogne',\n",
    "            'Faisselle',\n",
    "            \"Fourme d'Ambert\",\n",
    "            'Fourme de Montbrison',\n",
    "            'Fromage blanc',\n",
    "            'Fromage frais',\n",
    "            'Gruyère',\n",
    "            'Laguiole',\n",
    "            'Langres',\n",
    "            'Livarot',\n",
    "            'Mâconnais',\n",
    "            'Maroilles', \n",
    "            'Mimolette',\n",
    "            \"Mont d'or\", \n",
    "            'Morbier',\n",
    "            'Munster-Géromé',\n",
    "            'Neufchâtel',\n",
    "            'Ossau-lraty',\n",
    "            'Pélardon',\n",
    "            \"Picodon de l'Ardèche\", \n",
    "            \"Pont-l'Évêque\",\n",
    "            'Pouligny-Saint-Pierre',\n",
    "            'Reblochon', \n",
    "            'Rigotte de Condrieu',\n",
    "            'Rocamadour',\n",
    "            'Roquefort',\n",
    "            'Sainte-Maure de Touraine',\n",
    "            'Saint-Nectaire',\n",
    "            'Saint-Félicien',\n",
    "            'Salers',\n",
    "            'Selles-sur-Cher',\n",
    "            'Tome des Bauges', \n",
    "            'Tomme de Savoie', \n",
    "            'Tomme des Pyrénées',\n",
    "            'Trou du Cru',\n",
    "            'Valençay'\n",
    "            ]"
   ]
  },
  {
   "cell_type": "code",
   "execution_count": null,
   "metadata": {
    "collapsed": true
   },
   "outputs": [],
   "source": [
    "hf = ['Humboldt Fog']"
   ]
  },
  {
   "cell_type": "code",
   "execution_count": null,
   "metadata": {},
   "outputs": [],
   "source": [
    "len(french)"
   ]
  },
  {
   "cell_type": "markdown",
   "metadata": {},
   "source": [
    "---\n",
    "\n",
    "# Saving the images\n",
    "\n",
    "### Looping through the lists of types of cheese and using our function to save the images from each resulting search."
   ]
  },
  {
   "cell_type": "code",
   "execution_count": null,
   "metadata": {},
   "outputs": [],
   "source": [
    "for i in french:\n",
    "    \n",
    "    # Formating each query\n",
    "    search = i.split()\n",
    "    search ='+'.join(search)\n",
    "    \n",
    "    # Using the function to load and save the images\n",
    "    get_images(search)"
   ]
  }
 ],
 "metadata": {
  "anaconda-cloud": {},
  "kernelspec": {
   "display_name": "Python 2",
   "language": "python",
   "name": "python2"
  },
  "language_info": {
   "codemirror_mode": {
    "name": "ipython",
    "version": 2
   },
   "file_extension": ".py",
   "mimetype": "text/x-python",
   "name": "python",
   "nbconvert_exporter": "python",
   "pygments_lexer": "ipython2",
   "version": "2.7.13"
  }
 },
 "nbformat": 4,
 "nbformat_minor": 2
}
